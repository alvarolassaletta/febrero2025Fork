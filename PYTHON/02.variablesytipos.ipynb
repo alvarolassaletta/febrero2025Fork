{
 "cells": [
  {
   "cell_type": "markdown",
   "id": "06657ea2",
   "metadata": {},
   "source": [
    "### Variables\n"
   ]
  },
  {
   "cell_type": "code",
   "execution_count": 26,
   "id": "31673cc4",
   "metadata": {},
   "outputs": [
    {
     "name": "stdout",
     "output_type": "stream",
     "text": [
      "5\n",
      "4\n"
     ]
    }
   ],
   "source": [
    "# Declarar y asignar el valor de una variable con el operador de asignación =\n",
    "variable = 5\n",
    "print(variable)\n",
    "# Reasignar un valor a una variable ya existente\n",
    "variable = 4\n",
    "print(variable)"
   ]
  },
  {
   "cell_type": "markdown",
   "id": "df8d3099",
   "metadata": {},
   "source": [
    "## Tipos de dato\n",
    "\n",
    "### Numeros\n"
   ]
  },
  {
   "cell_type": "code",
   "execution_count": 27,
   "id": "e19d58c8",
   "metadata": {},
   "outputs": [
    {
     "name": "stdout",
     "output_type": "stream",
     "text": [
      "<class 'int'>\n",
      "<class 'float'>\n",
      "<class 'complex'>\n"
     ]
    }
   ],
   "source": [
    "# int\n",
    "age = 18\n",
    "print(type(age))\n",
    "\n",
    "# float\n",
    "price = 10.25\n",
    "print(type(price))\n",
    "\n",
    "# complex\n",
    "complejo = 2 + 4j\n",
    "print(type(complejo))"
   ]
  },
  {
   "cell_type": "markdown",
   "id": "3352b34e",
   "metadata": {},
   "source": []
  },
  {
   "cell_type": "markdown",
   "id": "991e9cbe",
   "metadata": {},
   "source": [
    "### Strings\n"
   ]
  },
  {
   "cell_type": "code",
   "execution_count": 28,
   "id": "6262e8cf",
   "metadata": {},
   "outputs": [
    {
     "name": "stdout",
     "output_type": "stream",
     "text": [
      "Como bien dijo Rajoy: \"¡Viva el vino!\"\n",
      "\n",
      "Este es un string\n",
      "que se muestra\n",
      "en varias\n",
      "lineas\n",
      "\n",
      "Buenas tardes a \n",
      "'todos'\n",
      "<class 'str'>\n",
      "La variable nombre tiene como valor: Antonio\n"
     ]
    }
   ],
   "source": [
    "nombre = \"Antonio\"\n",
    "nombre = 'Antonio'\n",
    "frase = 'Como bien dijo Rajoy: \"¡Viva el vino!\"'\n",
    "print(frase)\n",
    "\n",
    "varias_lineas = '''\n",
    "Este es un string\n",
    "que se muestra\n",
    "en varias\n",
    "lineas\n",
    "'''\n",
    "print(varias_lineas)\n",
    "\n",
    "caracter_de_escape = \"Buenas tardes a \\n'todos\\'\"\n",
    "print(caracter_de_escape)\n",
    "print(type(caracter_de_escape))\n",
    "\n",
    "print(f\"La variable nombre tiene como valor: {nombre}\")"
   ]
  },
  {
   "cell_type": "markdown",
   "id": "6d454cc1",
   "metadata": {},
   "source": [
    "### Booleanos\n"
   ]
  },
  {
   "cell_type": "code",
   "execution_count": 29,
   "id": "4d31c93a",
   "metadata": {},
   "outputs": [
    {
     "name": "stdout",
     "output_type": "stream",
     "text": [
      "<class 'bool'>\n"
     ]
    }
   ],
   "source": [
    "aprobado = True\n",
    "matriculado = False\n",
    "print(type(aprobado))"
   ]
  },
  {
   "cell_type": "markdown",
   "id": "fa1bb07d",
   "metadata": {},
   "source": [
    "### None\n"
   ]
  },
  {
   "cell_type": "code",
   "execution_count": 30,
   "id": "eac84699",
   "metadata": {},
   "outputs": [
    {
     "name": "stdout",
     "output_type": "stream",
     "text": [
      "<class 'NoneType'>\n"
     ]
    }
   ],
   "source": [
    "usuario = None\n",
    "print(type(usuario))"
   ]
  },
  {
   "cell_type": "markdown",
   "id": "0cd92889",
   "metadata": {},
   "source": [
    "## Ejemplo de función built-in\n",
    "\n",
    "### Len\n"
   ]
  },
  {
   "cell_type": "code",
   "execution_count": 38,
   "id": "f37ef044",
   "metadata": {},
   "outputs": [
    {
     "name": "stdout",
     "output_type": "stream",
     "text": [
      "17\n",
      "La longitud de la frase: \"Esto es una frase\" es: 17\n"
     ]
    }
   ],
   "source": [
    "ejemplo_string = \"Esto es una frase\"\n",
    "longitud_string = len(ejemplo_string)\n",
    "print(longitud_string)\n",
    "\n",
    "print(f'La longitud de la frase: \"{ejemplo_string}\" es: {len(ejemplo_string)}')"
   ]
  }
 ],
 "metadata": {
  "kernelspec": {
   "display_name": "Python 3",
   "language": "python",
   "name": "python3"
  },
  "language_info": {
   "codemirror_mode": {
    "name": "ipython",
    "version": 3
   },
   "file_extension": ".py",
   "mimetype": "text/x-python",
   "name": "python",
   "nbconvert_exporter": "python",
   "pygments_lexer": "ipython3",
   "version": "3.13.7"
  }
 },
 "nbformat": 4,
 "nbformat_minor": 5
}
