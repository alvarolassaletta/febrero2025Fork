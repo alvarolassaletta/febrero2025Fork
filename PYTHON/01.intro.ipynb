{
 "cells": [
  {
   "cell_type": "markdown",
   "id": "da5b01a3",
   "metadata": {},
   "source": [
    "### Tecnologías utilizadas\n",
    "\n",
    "- Jupyter Notebook\n",
    "- Markdown\n",
    "- Python\n"
   ]
  },
  {
   "cell_type": "code",
   "execution_count": 1,
   "id": "0a2290f2",
   "metadata": {},
   "outputs": [
    {
     "name": "stdout",
     "output_type": "stream",
     "text": [
      "Hola mundo!\n"
     ]
    }
   ],
   "source": [
    "# Este es un script con salida \"Hola mundo!\"\n",
    "print(\"Hola mundo!\")"
   ]
  },
  {
   "cell_type": "markdown",
   "id": "c5a55a38",
   "metadata": {},
   "source": [
    "### Esta es mi segunda ejecución con Python y Jupyter Notebook\n"
   ]
  },
  {
   "cell_type": "code",
   "execution_count": 2,
   "id": "1a691c8b",
   "metadata": {},
   "outputs": [
    {
     "name": "stdout",
     "output_type": "stream",
     "text": [
      "Adios\n"
     ]
    }
   ],
   "source": [
    "print(\"Adios\")"
   ]
  }
 ],
 "metadata": {
  "kernelspec": {
   "display_name": "Python 3",
   "language": "python",
   "name": "python3"
  },
  "language_info": {
   "codemirror_mode": {
    "name": "ipython",
    "version": 3
   },
   "file_extension": ".py",
   "mimetype": "text/x-python",
   "name": "python",
   "nbconvert_exporter": "python",
   "pygments_lexer": "ipython3",
   "version": "3.13.7"
  }
 },
 "nbformat": 4,
 "nbformat_minor": 5
}
